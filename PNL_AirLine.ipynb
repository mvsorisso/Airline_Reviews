{
  "metadata": {
    "kernelspec": {
      "name": "python",
      "display_name": "Python (Pyodide)",
      "language": "python"
    },
    "language_info": {
      "codemirror_mode": {
        "name": "python",
        "version": 3
      },
      "file_extension": ".py",
      "mimetype": "text/x-python",
      "name": "python",
      "nbconvert_exporter": "python",
      "pygments_lexer": "ipython3",
      "version": "3.8"
    }
  },
  "nbformat_minor": 5,
  "nbformat": 4,
  "cells": [
    {
      "id": "ec13f05a-4a6f-4618-b224-28b3f24e2f50",
      "cell_type": "code",
      "source": "",
      "metadata": {
        "trusted": true
      },
      "outputs": [],
      "execution_count": null
    },
    {
      "id": "72dfc16a-323c-4079-99c9-6efe85b2d307",
      "cell_type": "code",
      "source": "####***********************************************************####\n# Trabalho de Álgebra Linear * Processamento de Linguagem Natural #\n## --------------Similaridade de Cosseno-------------------------##\n####***********************************************************####",
      "metadata": {
        "trusted": true
      },
      "outputs": [],
      "execution_count": 18
    },
    {
      "id": "65966a48-3eac-48f1-b173-50bcd73aa54c",
      "cell_type": "code",
      "source": "# Instalar as Bibliotecas\n%pip install pandas\n%pip install nltk scikit-learn\n%pip install matplotlib \n%pip install seaborn",
      "metadata": {
        "trusted": true
      },
      "outputs": [],
      "execution_count": null
    },
    {
      "id": "891d916f-bc33-4285-aa96-d619e7094b02",
      "cell_type": "code",
      "source": "# Importar as Bibliotecas\nimport pandas as pd\nimport numpy as np\nimport nltk\nimport re\nfrom sklearn.feature_extraction.text import TfidfVectorizer\nfrom sklearn.metrics.pairwise import cosine_similarity\nfrom nltk.corpus import stopwords\nfrom sklearn.preprocessing import MinMaxScaler\nimport matplotlib.pyplot as plt\nimport seaborn as sns",
      "metadata": {
        "trusted": true
      },
      "outputs": [],
      "execution_count": null
    },
    {
      "id": "6f546335-ed3e-4a72-b33c-7a024229c1fe",
      "cell_type": "code",
      "source": "# Baixar stopwords\nnltk.download('stopwords')\nstop_words = set(stopwords.words('english'))",
      "metadata": {
        "trusted": true
      },
      "outputs": [],
      "execution_count": null
    },
    {
      "id": "9cea78bf-ed5f-4770-9246-0426b6e2a617",
      "cell_type": "code",
      "source": "# Carregar dados\n#url = 'https://www.kaggleusercontent.com/datasets/khushipitroda/airline-reviews/download?datasetVersionNumber=1'\n# Baixar manualmente do arquivo do Kaggle e carregar localmente:\ndf = pd.read_csv('Airline_Reviews.csv')\n",
      "metadata": {
        "trusted": true
      },
      "outputs": [],
      "execution_count": null
    },
    {
      "id": "b07eab68-7ed1-4282-8125-067a8caa2b87",
      "cell_type": "code",
      "source": "# Verificar colunas\nprint(df.columns)",
      "metadata": {
        "trusted": true
      },
      "outputs": [],
      "execution_count": null
    },
    {
      "id": "75443817-ed3b-4a1f-bf12-f46555945117",
      "cell_type": "code",
      "source": "# Filtrar colunas necessárias\ndf = df[['Airline Name', 'Review', 'Overall_Rating']]\ndf.dropna(subset=['Review', 'Airline Name'], inplace=True)",
      "metadata": {
        "trusted": true
      },
      "outputs": [],
      "execution_count": null
    },
    {
      "id": "a0a6b585-7416-4a62-99f1-c4d8f67dbd99",
      "cell_type": "code",
      "source": "# Função de limper texto\ndef clean_text(text):\n    text = text.lower()\n    text = re.sub(r'[^a-z\\s]', '', text)  # Remove pontuação e números\n    text = ' '.join([word for word in text.split() if word not in stop_words])\n    return text\n\ndf['cleaned_review'] = df['Review'].apply(clean_text)",
      "metadata": {
        "trusted": true
      },
      "outputs": [],
      "execution_count": null
    },
    {
      "id": "571f22f7-3f7d-4eba-91f0-45a3f30c279d",
      "cell_type": "code",
      "source": "# Vetorização com TF-IDF\nvectorizer = TfidfVectorizer(max_features=1000)\nX = vectorizer.fit_transform(df['cleaned_review'])",
      "metadata": {
        "trusted": true
      },
      "outputs": [],
      "execution_count": null
    },
    {
      "id": "4c0f9afd-f1db-4c33-be9a-1708d3002285",
      "cell_type": "code",
      "source": "# Similaridade do cosseno entre todos os pares de avaliações\ncos_sim_matrix = cosine_similarity(X)\n",
      "metadata": {
        "trusted": true
      },
      "outputs": [],
      "execution_count": null
    },
    {
      "id": "211d08fb-f4f9-4949-a766-3ef3dd2c0bb9",
      "cell_type": "code",
      "source": "# Adicionar média de similaridade por companhia aérea\ndf['mean_similarity'] = cos_sim_matrix.mean(axis=1)",
      "metadata": {
        "trusted": true
      },
      "outputs": [],
      "execution_count": null
    },
    {
      "id": "5bb47433-0fc2-403e-9831-384d9854b3f5",
      "cell_type": "code",
      "source": "# Agrupar por companhia aérea\nairline_scores = df.groupby('Airline Name').agg({\n    'mean_similarity': 'mean',\n    'Overall_Rating': 'mean',\n    'Review': 'count'\n}).reset_index()",
      "metadata": {
        "trusted": true
      },
      "outputs": [],
      "execution_count": null
    },
    {
      "id": "59c4de24-41df-4842-ad7a-62aae1867f16",
      "cell_type": "code",
      "source": "# Normalizar as pontuações para melhor visualização\nscaler = MinMaxScaler()\nairline_scores[['mean_similarity', 'Overall_Rating']] = scaler.fit_transform(airline_scores[['mean_similarity', 'Overall_Rating']])",
      "metadata": {
        "trusted": true
      },
      "outputs": [],
      "execution_count": null
    },
    {
      "id": "8266eca0-1284-45bc-b850-b108b41e64f9",
      "cell_type": "code",
      "source": "# Criar uma métrica combinada (peso maior para similaridade)\nairline_scores['score'] = (0.7 * airline_scores['mean_similarity']) + (0.3 * airline_scores['Rating'])",
      "metadata": {
        "trusted": true
      },
      "outputs": [],
      "execution_count": null
    },
    {
      "id": "d2a962b7-dbff-4a84-9f5e-b92e8b212cc1",
      "cell_type": "code",
      "source": "# Ordenar da melhor para a pior\ntop_airlines = airline_scores.sort_values(by='score', ascending=False)",
      "metadata": {
        "trusted": true
      },
      "outputs": [],
      "execution_count": null
    },
    {
      "id": "aaedf32c-5390-414d-a44b-f35447a92d8c",
      "cell_type": "code",
      "source": "# Exibir as 5 melhores\nprint(\"Top 5 Companhias Aéreas Mais Recomendadas com Base em Análises:\")\nprint(top_airlines[['Airline Name', 'score', 'Review']].head(5))",
      "metadata": {
        "trusted": true
      },
      "outputs": [],
      "execution_count": null
    },
    {
      "id": "8766c982-4289-45b0-8329-a7aea5286a28",
      "cell_type": "code",
      "source": "# Visualização\nplt.figure(figsize=(10, 6))\nsns.barplot(data=top_airlines.head(10), x='score', y='Airline Name', palette='viridis')\nplt.title('Top 10 Companhias Aéreas Mais Recomendadas (Com base em similaridade + avaliação)')\nplt.xlabel('Score Normalizado')\nplt.ylabel('Companhia Aérea')\nplt.tight_layout()\nplt.show()",
      "metadata": {
        "trusted": true
      },
      "outputs": [],
      "execution_count": null
    }
  ]
}